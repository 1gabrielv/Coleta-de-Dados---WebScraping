{
 "cells": [
  {
   "cell_type": "markdown",
   "metadata": {},
   "source": [
    "BIBLIOTECAS"
   ]
  },
  {
   "cell_type": "code",
   "execution_count": 1,
   "metadata": {},
   "outputs": [],
   "source": [
    "import pandas as pd4\n",
    "import time\n"
   ]
  },
  {
   "cell_type": "code",
   "execution_count": 2,
   "metadata": {},
   "outputs": [],
   "source": [
    "from selenium import webdriver\n",
    "from selenium.webdriver.chrome.service import Service\n",
    "from selenium.webdriver.common.by import By\n",
    "from dataclasses import dataclass"
   ]
  },
  {
   "cell_type": "markdown",
   "metadata": {},
   "source": [
    "INICIALIZANDO UM INSTANCIA DO GOOGLE CHROME"
   ]
  },
  {
   "cell_type": "code",
   "execution_count": 3,
   "metadata": {},
   "outputs": [],
   "source": [
    "#a classe Serive é usada pra iniciar uma instancia do Google C.\n",
    "service = Service()\n",
    "\n",
    "#webdriver é usando para definir a preferencia do brower do Chrome\n",
    "options = webdriver.ChromeOptions()\n",
    "\n",
    "#inicia a instancia do ChromeWebDriver com as definidas 'options' e 'service'\n",
    "driver = webdriver.Chrome(service=service, options=options)\n",
    "time.sleep(5)\n"
   ]
  },
  {
   "cell_type": "code",
   "execution_count": 4,
   "metadata": {},
   "outputs": [],
   "source": [
    "url = 'https://www.amazon.com.br/gp/bestsellers/books/?ie=UTF8&ref_=sv_b_2'\n",
    "driver.get(url)\n",
    "time.sleep(5)"
   ]
  },
  {
   "cell_type": "code",
   "execution_count": 5,
   "metadata": {},
   "outputs": [],
   "source": [
    "Matriz = []\n",
    "Lista_dos_livros = []\n",
    "\n",
    "\n",
    "# Encontrar os elementos com a classe 'zg-bdg-text'\n",
    "posicao = driver.find_elements(By.CLASS_NAME, 'zg-bdg-text')\n",
    "\n",
    "    # Iterar pelos 10 primeiros elementos, se houver menos de 10, apenas pegue o máximo disponível\n",
    "for elemento in posicao[:10]:\n",
    "    elemento = str(elemento.get_attribute('textContent'))\n",
    "    elemento = elemento.replace('#','')\n",
    "    Lista_dos_livros.append(elemento)\n",
    "\n",
    "Matriz.append(Lista_dos_livros[:])\n",
    "Lista_dos_livros.clear()\n",
    "\n",
    "\n",
    "preco = driver.find_elements(By.CLASS_NAME, '_cDEzb_p13n-sc-price_3mJ9Z')\n",
    "\n",
    "\n",
    "for elemento in preco[:10]:\n",
    "    Lista_dos_livros.append(elemento.text)\n",
    "\n",
    "\n",
    "Matriz.append(Lista_dos_livros[:])\n",
    "Lista_dos_livros.clear()\n",
    "\n",
    "\n",
    "nome = driver.find_elements(By.CLASS_NAME, '_cDEzb_p13n-sc-css-line-clamp-1_1Fn1y')\n",
    "for elemento in nome[:20:2]:\n",
    "    Lista_dos_livros.append(elemento.text)\n",
    "\n",
    "Matriz.append(Lista_dos_livros[:])\n",
    "Lista_dos_livros.clear()\n"
   ]
  },
  {
   "cell_type": "code",
   "execution_count": 6,
   "metadata": {},
   "outputs": [
    {
     "name": "stdout",
     "output_type": "stream",
     "text": [
      "['1', '2', '3', '4', '5', '6', '7', '8', '9', '10']\n",
      "['R$ 1,62', 'R$ 64,54', 'R$ 38,40', 'R$ 37,74', 'R$ 72,38', 'R$ 21,90', 'R$ 74,90', 'R$ 22,79', 'R$ 45,24', 'R$ 44,90']\n",
      "['Barbie Dreamtopia - Um elefante esquecido', 'Café com Deus Pai 2024: Porções Diárias de paz', 'A psicologia financeira: lições atemporais sobre fortuna, ganância e felicidade', 'A Biblioteca da Meia-Noite', 'Fogo & Sangue – Volume 1', 'O homem mais rico da Babilônia', 'O animal social', 'O Deus que destrói sonhos', 'Hábitos Atômicos: um Método Fácil e Comprovado de Criar Bons Hábitos e se Livrar dos Maus- Idioma : Português', 'É Assim que Acaba: 1']\n"
     ]
    }
   ],
   "source": [
    "for linha in Matriz:\n",
    "   print(linha)\n",
    "   \n",
    "# Fechar o navegador ao finalizar\n",
    "driver.quit()"
   ]
  },
  {
   "cell_type": "code",
   "execution_count": 7,
   "metadata": {},
   "outputs": [
    {
     "name": "stdout",
     "output_type": "stream",
     "text": [
      "📚 Top 10 Mais Vendidos de Hoje 📚\n",
      "\n",
      "🔟 1° Livro Mais Vendido 🔟\n",
      "📖 Nome: Barbie Dreamtopia - Um elefante esquecido\n",
      "💲 Preço: R$ 1,62\n",
      "\n",
      "----------------------------------------\n",
      "\n",
      "🔟 2° Livro Mais Vendido 🔟\n",
      "📖 Nome: Café com Deus Pai 2024: Porções Diárias de paz\n",
      "💲 Preço: R$ 64,54\n",
      "\n",
      "----------------------------------------\n",
      "\n",
      "🔟 3° Livro Mais Vendido 🔟\n",
      "📖 Nome: A psicologia financeira: lições atemporais sobre fortuna, ganância e felicidade\n",
      "💲 Preço: R$ 38,40\n",
      "\n",
      "----------------------------------------\n",
      "\n",
      "🔟 4° Livro Mais Vendido 🔟\n",
      "📖 Nome: A Biblioteca da Meia-Noite\n",
      "💲 Preço: R$ 37,74\n",
      "\n",
      "----------------------------------------\n",
      "\n",
      "🔟 5° Livro Mais Vendido 🔟\n",
      "📖 Nome: Fogo & Sangue – Volume 1\n",
      "💲 Preço: R$ 72,38\n",
      "\n",
      "----------------------------------------\n",
      "\n",
      "🔟 6° Livro Mais Vendido 🔟\n",
      "📖 Nome: O homem mais rico da Babilônia\n",
      "💲 Preço: R$ 21,90\n",
      "\n",
      "----------------------------------------\n",
      "\n",
      "🔟 7° Livro Mais Vendido 🔟\n",
      "📖 Nome: O animal social\n",
      "💲 Preço: R$ 74,90\n",
      "\n",
      "----------------------------------------\n",
      "\n",
      "🔟 8° Livro Mais Vendido 🔟\n",
      "📖 Nome: O Deus que destrói sonhos\n",
      "💲 Preço: R$ 22,79\n",
      "\n",
      "----------------------------------------\n",
      "\n",
      "🔟 9° Livro Mais Vendido 🔟\n",
      "📖 Nome: Hábitos Atômicos: um Método Fácil e Comprovado de Criar Bons Hábitos e se Livrar dos Maus- Idioma : Português\n",
      "💲 Preço: R$ 45,24\n",
      "\n",
      "----------------------------------------\n",
      "\n",
      "🔟 10° Livro Mais Vendido 🔟\n",
      "📖 Nome: É Assim que Acaba: 1\n",
      "💲 Preço: R$ 44,90\n",
      "\n",
      "----------------------------------------\n",
      "\n"
     ]
    }
   ],
   "source": [
    "print(\"📚 Top 10 Mais Vendidos de Hoje 📚\\n\")\n",
    "for i in range(10):\n",
    "    print(f'🔟 {Matriz[0][i]}° Livro Mais Vendido 🔟')\n",
    "    print(f\"📖 Nome: {Matriz[2][i]}\")\n",
    "    print(f\"💲 Preço: {Matriz[1][i]}\")    \n",
    "    print(\"\\n\" + \"-\"*40 + \"\\n\")\n",
    "\n"
   ]
  }
 ],
 "metadata": {
  "kernelspec": {
   "display_name": "Python 3",
   "language": "python",
   "name": "python3"
  },
  "language_info": {
   "codemirror_mode": {
    "name": "ipython",
    "version": 3
   },
   "file_extension": ".py",
   "mimetype": "text/x-python",
   "name": "python",
   "nbconvert_exporter": "python",
   "pygments_lexer": "ipython3",
   "version": "3.11.4"
  }
 },
 "nbformat": 4,
 "nbformat_minor": 2
}
