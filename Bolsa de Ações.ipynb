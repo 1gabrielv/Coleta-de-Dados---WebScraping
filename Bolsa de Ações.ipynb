{
 "cells": [
  {
   "cell_type": "code",
   "execution_count": 1,
   "metadata": {},
   "outputs": [],
   "source": [
    "from selenium import webdriver\n",
    "from selenium.webdriver.common.by import By\n",
    "from selenium.webdriver.chrome.service import Service\n",
    "from webdriver_manager.chrome import ChromeDriverManager\n",
    "import time\n",
    "import math\n",
    "from datetime import datetime \n",
    "from datetime import date\n",
    "from datetime import timedelta"
   ]
  },
  {
   "cell_type": "code",
   "execution_count": 2,
   "metadata": {},
   "outputs": [],
   "source": [
    "driver =webdriver.Chrome(service = Service(ChromeDriverManager().install()))\n"
   ]
  },
  {
   "cell_type": "code",
   "execution_count": 3,
   "metadata": {},
   "outputs": [],
   "source": [
    "def retorno_ativo(link_ativo):\n",
    "    driver.get(link_ativo)\n",
    "    time.sleep(10)\n",
    "    ativo = driver.find_element('xpath', \n",
    "                                    '/html/body/div[1]/div[2]/div[2]/div[2]/div[1]/div[1]/div[3]/div[1]/div[1]/div[2]/span[2]')\n",
    "    ativo = str(ativo.get_attribute('textContent'))\n",
    "    ativo = ativo.replace('(','')\n",
    "    ativo = ativo.replace(')','')\n",
    "    data_ou_horario = driver.find_element('xpath', '/html/body/div[1]/div[2]/div[2]/div[2]/div[1]/div[1]/div[3]/div[1]/div[2]/div[2]/time').get_attribute('textContent')\n",
    "    status = driver.find_element('xpath', '/html/body/div[1]/div[2]/div[2]/div[2]/div[1]/div[1]/div[3]/div[1]/div[2]/div[2]/span').get_attribute('textContent')\n",
    "    preco = driver.find_element('xpath','/html/body/div[1]/div[2]/div[2]/div[2]/div[1]/div[1]/div[3]/div[1]/div[1]/div[1]').get_attribute('textContent')\n",
    "    cambio = driver.find_element('xpath','/html/body/div[1]/div[2]/div[2]/div[2]/div[1]/div[1]/div[1]/div[1]/div/div[2]/div[1]').get_attribute('textContent')\n",
    "    cambio = cambio.replace('  ',' ')\n",
    "    return ativo, data_ou_horario , status, preco, cambio"
   ]
  },
  {
   "cell_type": "code",
   "execution_count": 4,
   "metadata": {},
   "outputs": [
    {
     "name": "stdout",
     "output_type": "stream",
     "text": [
      "('+0,55%', '16:48:00', 'Dados em Atraso', '128.026', 'Moeda em BRL')\n"
     ]
    }
   ],
   "source": [
    "#BRASIL\n",
    "\n",
    "#IBOVESPA\n",
    "ibov = retorno_ativo('https://br.investing.com/indices/bovespa')\n",
    "print(ibov)"
   ]
  },
  {
   "cell_type": "code",
   "execution_count": 5,
   "metadata": {},
   "outputs": [
    {
     "name": "stdout",
     "output_type": "stream",
     "text": [
      "('+0,76%', '16:21:00', 'Dados em Atraso', '10,650', 'Moeda em BRL')\n",
      "('-0,44%', '16:48:00', 'Dados em Atraso', '248,60', 'Moeda em BRL')\n",
      "('+0,49%', '16:40:00', 'Dados em Atraso', '124,18', 'Moeda em BRL')\n",
      "('+0,06%', '30/11', 'Dados em Atraso', '113,94', 'Moeda em BRL')\n",
      "('-1,72%', '16:45:00', 'Dados em Atraso', '5,13', 'Moeda em BRL')\n",
      "('+1,50%', '16:48:00', 'Dados em Atraso', '107,94', 'Moeda em BRL')\n",
      "('-0,82%', '16:26:00', 'Dados em Atraso', '10,85', 'Moeda em BRL')\n"
     ]
    }
   ],
   "source": [
    "#ETFS\n",
    "\n",
    "#GOLD11\n",
    "gold11 = retorno_ativo('https://br.investing.com/etfs/gold11')\n",
    "print(gold11)\n",
    "#IVVB11\n",
    "ivvb11 = retorno_ativo('https://br.investing.com/etfs/fundo-de-invest-ishares-sp-500')\n",
    "print(ivvb11)\n",
    "#BOVA11\n",
    "bova11 = retorno_ativo('https://br.investing.com/etfs/ishares-ibovespa')\n",
    "print(bova11)\n",
    "#LFTS11\n",
    "lfts11 = retorno_ativo('https://br.investing.com/etfs/lfts11')\n",
    "print(lfts11)\n",
    "#XINA11\n",
    "xina11 = retorno_ativo('https://br.investing.com/etfs/xina11')\n",
    "print(xina11)\n",
    "#SMAL11\n",
    "smal11 = retorno_ativo('https://br.investing.com/etfs/ishares-bm-fbovespa-small-cap')\n",
    "print(smal11)\n",
    "#NASD11\n",
    "nasd11 = retorno_ativo('https://br.investing.com/etfs/nasd11')\n",
    "print(nasd11)"
   ]
  },
  {
   "cell_type": "code",
   "execution_count": 6,
   "metadata": {},
   "outputs": [
    {
     "name": "stdout",
     "output_type": "stream",
     "text": [
      "('-0,11%', '02:59:57', 'Fechado', '33.431,51', 'Moeda em JPY')\n",
      "('-1,07%', '04:59:59', 'Fechado', '16.847,00', 'Moeda em HKD')\n",
      "('-0,20%', '03:04:14', 'Fechado', '7.073,20', 'Moeda em AUD')\n",
      "('+0,06%', '04:59:34', 'Fechado', '3.031,64', 'Moeda em CNY')\n"
     ]
    }
   ],
   "source": [
    "#ASIA E OCEANIA\n",
    "\n",
    "#NIKKEI 225\n",
    "ni225 = retorno_ativo('https://br.investing.com/indices/japan-ni225')\n",
    "print(ni225)\n",
    "#Hang Seng\n",
    "hang_seng40 = retorno_ativo('https://br.investing.com/indices/hang-sen-40')\n",
    "print(hang_seng40)\n",
    "#S&P/ASX 200\n",
    "aus200 = retorno_ativo('https://br.investing.com/indices/aus-200')\n",
    "print(aus200)\n",
    "#SHANGAI\n",
    "shangai = retorno_ativo('https://br.investing.com/indices/shanghai-composite')\n",
    "print(shangai)"
   ]
  },
  {
   "cell_type": "code",
   "execution_count": 7,
   "metadata": {},
   "outputs": [
    {
     "name": "stdout",
     "output_type": "stream",
     "text": [
      "('+1,12%', '13:35:01', 'Fechado', '16.397,52', 'Moeda em EUR')\n",
      "('+1,01%', '13:35:00', 'Fechado', '7.529,35', 'Moeda em GBP')\n",
      "('+0,82%', '13:38:00', 'Fechado', '10.140,80', 'Moeda em EUR')\n"
     ]
    }
   ],
   "source": [
    "#Europa\n",
    "\n",
    "#DAX\n",
    "dax = retorno_ativo('https://br.investing.com/indices/germany-30')\n",
    "print(dax)\n",
    "#FTSE\n",
    "ftse = retorno_ativo('https://br.investing.com/indices/uk-100')\n",
    "print(ftse)\n",
    "#IBEX 35\n",
    "ibex35 = retorno_ativo('https://br.investing.com/indices/spain-35')\n",
    "print(ibex35)"
   ]
  },
  {
   "cell_type": "code",
   "execution_count": 8,
   "metadata": {},
   "outputs": [
    {
     "name": "stdout",
     "output_type": "stream",
     "text": [
      "('+0,54%', '16:59:13', 'Dados em Atraso', '4.601,50', 'Moeda em USD')\n",
      "('+0,79%', '16:53:27', 'Dados em Atraso', '36.293,00', 'Moeda em USD')\n",
      "('+0,27%', '17:02:42', 'Dados em Atraso', '16.028,50', 'Moeda em USD')\n"
     ]
    }
   ],
   "source": [
    "#EUA\n",
    "\n",
    "#S&P 500 \n",
    "sp500 = retorno_ativo('https://br.investing.com/indices/us-spx-500-futures')\n",
    "print(sp500)\n",
    "#DOW30\n",
    "dow30 = retorno_ativo('https://br.investing.com/indices/us-30-futures')\n",
    "print(dow30)\n",
    "#NASDAQ 100\n",
    "nq100 = retorno_ativo('https://br.investing.com/indices/nq-100-futures')\n",
    "print(nq100)"
   ]
  },
  {
   "cell_type": "code",
   "execution_count": 9,
   "metadata": {},
   "outputs": [
    {
     "name": "stdout",
     "output_type": "stream",
     "text": [
      "('-2,21%', '17:09:55', 'Dados atuais', '74,28', 'Moeda em USD')\n",
      "('-2,21%', '17:11:44', 'Dados atuais', '79,07', 'Moeda em USD')\n",
      "('+1,31%', '02:00:00', 'Fechado', '969,00', 'Moeda em CNY')\n"
     ]
    }
   ],
   "source": [
    "#Commodities\n",
    "\n",
    "#Petróleo WTI\n",
    "wti = retorno_ativo('https://br.investing.com/commodities/crude-oil')\n",
    "print(wti)\n",
    "#Petróleo Brent\n",
    "brent = retorno_ativo('https://br.investing.com/commodities/brent-oil')\n",
    "print(brent)\n",
    "#Minério de ferro - Dalian\n",
    "ferro = retorno_ativo('https://br.investing.com/commodities/iron-ore-62-cfr-futures?cid=961741')\n",
    "print(ferro)"
   ]
  },
  {
   "cell_type": "code",
   "execution_count": 10,
   "metadata": {},
   "outputs": [],
   "source": [
    "driver.quit()"
   ]
  },
  {
   "cell_type": "code",
   "execution_count": 11,
   "metadata": {},
   "outputs": [],
   "source": [
    "data = datetime.now()\n",
    "\n",
    "ano = data.year\n",
    "mes = data.month\n",
    "dia = data.day\n",
    "hora = data.hour\n",
    "minuto = data.minute\n",
    "segundo = data.second\n",
    "microssegundo = data.microsecond"
   ]
  },
  {
   "cell_type": "code",
   "execution_count": 12,
   "metadata": {},
   "outputs": [
    {
     "name": "stdout",
     "output_type": "stream",
     "text": [
      "Data e Hora dos dados coletados: \n",
      "\n",
      "          1-12-2023\n",
      "          Às 17:13:36\n",
      "\n",
      "------------------------------\n",
      "📊 Brasil\n",
      "\n",
      "Ibovespa: 128.026(Moeda em BRL) - +0,55% - 16:48:00 - Dados em Atraso\n",
      "\n",
      "📊 ETFs\n",
      "\n",
      "GOLD11 : 10,650(Moeda em BRL) - +0,76% - 16:21:00 - Dados em Atraso\n",
      "IVVB11: 248,60(Moeda em BRL) - -0,44% - 16:48:00 - Dados em Atraso\n",
      "BOVA11: 124,18(Moeda em BRL) - +0,49% - 16:40:00 - Dados em Atraso\n",
      "LFTS11: 113,94(Moeda em BRL) - +0,06% - 30/11 - Dados em Atraso\n",
      "XINA11: 5,13(Moeda em BRL) - -1,72% - 16:45:00 - Dados em Atraso\n",
      "SMAL11: 107,94(Moeda em BRL) - +1,50% - 16:48:00 - Dados em Atraso\n",
      "nasd11: 10,85(Moeda em BRL) - -0,82% - 16:26:00 - Dados em Atraso\n",
      "\n",
      "📊 Ásia/Oceania\n",
      "\n",
      "Nikkei 225 (Tóquio): 33.431,51(Moeda em JPY) - -0,11% - 02:59:57 - Fechado\n",
      "Hang Seng (Hong Kong): 16.847,00(Moeda em HKD) - -1,07% - 04:59:59 - Fechado\n",
      "S&P/ASX200 (Sydney): 7.073,20(Moeda em AUD) - -0,20% - 03:04:14 - Fechado\n",
      "Shanghai (Xangai): 3.031,64(Moeda em CNY) - +0,06% - 04:59:34 - Fechado\n",
      "\n",
      "📊 Europa\n",
      "\n",
      "DAX (Frankfurt): 16.397,52(Moeda em EUR) - +1,12% - 13:35:01 - Fechado\n",
      "FTSE (Londres): 7.529,35(Moeda em GBP) - +1,01% - 13:35:00 - Fechado\n",
      "IBEX 35 (Madri): 10.140,80(Moeda em EUR) - +0,82% - 13:38:00 - Fechado\n",
      "\n",
      "📊 EUA (futuros)\n",
      "\n",
      "S&P 500: 4.601,50(Moeda em USD) - +0,54% - 16:59:13 - Dados em Atraso\n",
      "Dow 30: 36.293,00(Moeda em USD) - +0,79% - 16:53:27 - Dados em Atraso\n",
      "Nasdaq 100: 16.028,50(Moeda em USD) - +0,27% - 17:02:42 - Dados em Atraso\n",
      "\n",
      "📊 Commodities\n",
      "\n",
      "Petróleo WTI: 74,28(Moeda em USD) - -2,21% - 17:09:55 - Dados atuais\n",
      "Petróleo Brent: 79,07(Moeda em USD) - -2,21% - 17:11:44 - Dados atuais\n",
      "Minério de ferro - Dalian: 969,00(Moeda em CNY) - +1,31% - 02:00:00 - Fechado\n"
     ]
    }
   ],
   "source": [
    "brasil = {'Ibovespa': ibov}\n",
    "\n",
    "etfs = {'GOLD11 ': gold11,\n",
    "        'IVVB11': ivvb11,\n",
    "        'BOVA11': bova11,\n",
    "        'LFTS11': lfts11,\n",
    "        'XINA11': xina11,\n",
    "        'SMAL11': smal11,\n",
    "        'nasd11': nasd11\n",
    "               }\n",
    "\n",
    "asia_oceania = {'Nikkei 225 (Tóquio)': ni225,\n",
    "               'Hang Seng (Hong Kong)': hang_seng40,\n",
    "               'S&P/ASX200 (Sydney)': aus200,\n",
    "               'Shanghai (Xangai)': shangai\n",
    "               }\n",
    "europa = {'DAX (Frankfurt)': dax,\n",
    "          'FTSE (Londres)': ftse,\n",
    "          'IBEX 35 (Madri)': ibex35\n",
    "         }\n",
    "eua = {'S&P 500': sp500,\n",
    "      'Dow 30': dow30,\n",
    "      'Nasdaq 100': nq100\n",
    "      }\n",
    "commodities = {'Petróleo WTI': wti,\n",
    "              'Petróleo Brent': brent,\n",
    "              'Minério de ferro - Dalian': ferro}\n",
    "\n",
    "\n",
    "print('Data e Hora dos dados coletados: ')\n",
    "print('')\n",
    "print(f'          {dia}-{mes}-{ano}')\n",
    "print(f'          Às {hora}:{minuto}:{segundo}')\n",
    "\n",
    "print('')\n",
    "print('-'*30)\n",
    "\n",
    "print('📊 Brasil\\n')\n",
    "for indice in brasil:\n",
    "    print(f'{indice}: {brasil[indice][3]}({brasil[indice][4]}) - {brasil[indice][0]} - {brasil[indice][1]} - {brasil[indice][2]}')\n",
    "    \n",
    "print('\\n📊 ETFs\\n')\n",
    "for indice in etfs:\n",
    "    print(f'{indice}: {etfs[indice][3]}({etfs[indice][4]}) - {etfs[indice][0]} - {etfs[indice][1]} - {etfs[indice][2]}')\n",
    "\n",
    "print('\\n📊 Ásia/Oceania\\n')\n",
    "for indice in asia_oceania:\n",
    "    print(f'{indice}: {asia_oceania[indice][3]}({asia_oceania[indice][4]}) - {asia_oceania[indice][0]} - {asia_oceania[indice][1]} - {asia_oceania[indice][2]}')\n",
    "    \n",
    "print('\\n📊 Europa\\n')\n",
    "for indice in europa:\n",
    "    print(f'{indice}: {europa[indice][3]}({europa[indice][4]}) - {europa[indice][0]} - {europa[indice][1]} - {europa[indice][2]}')\n",
    "\n",
    "print('\\n📊 EUA (futuros)\\n')\n",
    "for indice in eua:\n",
    "    print(f'{indice}: {eua[indice][3]}({eua[indice][4]}) - {eua[indice][0]} - {eua[indice][1]} - {eua[indice][2]}')\n",
    "\n",
    "print('\\n📊 Commodities\\n')\n",
    "for indice in commodities:\n",
    "    print(f'{indice}: {commodities[indice][3]}({commodities[indice][4]}) - {commodities[indice][0]} - {commodities[indice][1]} - {commodities[indice][2]}')"
   ]
  }
 ],
 "metadata": {
  "kernelspec": {
   "display_name": "Python 3",
   "language": "python",
   "name": "python3"
  },
  "language_info": {
   "codemirror_mode": {
    "name": "ipython",
    "version": 3
   },
   "file_extension": ".py",
   "mimetype": "text/x-python",
   "name": "python",
   "nbconvert_exporter": "python",
   "pygments_lexer": "ipython3",
   "version": "3.11.4"
  }
 },
 "nbformat": 4,
 "nbformat_minor": 2
}
